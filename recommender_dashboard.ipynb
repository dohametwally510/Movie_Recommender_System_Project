{
 "cells": [
  {
   "cell_type": "code",
   "execution_count": 1,
   "id": "624f6dde",
   "metadata": {},
   "outputs": [
    {
     "name": "stderr",
     "output_type": "stream",
     "text": [
      "C:\\Users\\2ha M2li322\\anaconda3\\lib\\site-packages\\fuzzywuzzy\\fuzz.py:11: UserWarning: Using slow pure-python SequenceMatcher. Install python-Levenshtein to remove this warning\n",
      "  warnings.warn('Using slow pure-python SequenceMatcher. Install python-Levenshtein to remove this warning')\n"
     ]
    }
   ],
   "source": [
    "import numpy as np\n",
    "import pandas as pd\n",
    "import plotly.express as px\n",
    "import dash\n",
    "import dash_bootstrap_components as dbc\n",
    "import dash_core_components as dcc\n",
    "import dash_html_components as html\n",
    "from dash.dependencies import Input, Output\n",
    "from scipy.sparse import csr_matrix\n",
    "from sklearn.neighbors import NearestNeighbors\n",
    "from surprise import Reader, Dataset, NMF\n",
    "from surprise.model_selection import train_test_split as surprise_train_test_split\n",
    "import joblib\n",
    "from fuzzywuzzy import process\n",
    "\n"
   ]
  },
  {
   "cell_type": "code",
   "execution_count": 2,
   "id": "c6076f77",
   "metadata": {},
   "outputs": [],
   "source": [
    "movies = pd.read_csv(\"movies.csv\")\n",
    "ratings = pd.read_csv(\"ratings.csv\")\n"
   ]
  },
  {
   "cell_type": "code",
   "execution_count": 3,
   "id": "36a887a8",
   "metadata": {},
   "outputs": [],
   "source": [
    "\n",
    "# Preprocess movie data\n",
    "movies = movies.drop('genres', axis=1)\n"
   ]
  },
  {
   "cell_type": "code",
   "execution_count": 4,
   "id": "5896064f",
   "metadata": {},
   "outputs": [],
   "source": [
    "\n",
    "# Combine movies and ratings data into a single dataset\n",
    "combined_dataset = pd.merge(movies, ratings, how='left', on='movieId')\n"
   ]
  },
  {
   "cell_type": "code",
   "execution_count": 5,
   "id": "3657d350",
   "metadata": {},
   "outputs": [],
   "source": [
    "\n",
    "# Create a pivot table of movies and users with ratings\n",
    "movies_and_users = ratings.pivot(index='movieId', columns='userId', values='rating').fillna(0)\n"
   ]
  },
  {
   "cell_type": "code",
   "execution_count": 6,
   "id": "fa13384d",
   "metadata": {},
   "outputs": [],
   "source": [
    "\n",
    "# Create a sparse matrix representation of the movies and users data\n",
    "matrix_movies_users = csr_matrix(movies_and_users.values)\n"
   ]
  },
  {
   "cell_type": "code",
   "execution_count": 7,
   "id": "663ae450",
   "metadata": {},
   "outputs": [
    {
     "data": {
      "text/plain": [
       "NearestNeighbors(algorithm='brute', metric='cosine', n_neighbors=20)"
      ]
     },
     "execution_count": 7,
     "metadata": {},
     "output_type": "execute_result"
    }
   ],
   "source": [
    "\n",
    "# Train Nearest Neighbors model\n",
    "model_knn = NearestNeighbors(metric='cosine', algorithm='brute', n_neighbors=20)\n",
    "model_knn.fit(matrix_movies_users)\n"
   ]
  },
  {
   "cell_type": "code",
   "execution_count": 8,
   "id": "a2d51964",
   "metadata": {},
   "outputs": [
    {
     "data": {
      "text/plain": [
       "<surprise.prediction_algorithms.matrix_factorization.NMF at 0x20e0464eca0>"
      ]
     },
     "execution_count": 8,
     "metadata": {},
     "output_type": "execute_result"
    }
   ],
   "source": [
    "\n",
    "# Train Factorization Machines model using Surprise library\n",
    "reader = Reader(rating_scale=(1, 5))\n",
    "data = Dataset.load_from_df(ratings[['userId', 'movieId', 'rating']], reader)\n",
    "train_fm, test_fm = surprise_train_test_split(data)\n",
    "model_fm = NMF()\n",
    "model_fm.fit(train_fm)\n"
   ]
  },
  {
   "cell_type": "code",
   "execution_count": 9,
   "id": "b7518303",
   "metadata": {},
   "outputs": [
    {
     "data": {
      "text/plain": [
       "['fm_model.pkl']"
      ]
     },
     "execution_count": 9,
     "metadata": {},
     "output_type": "execute_result"
    }
   ],
   "source": [
    "\n",
    "# Save trained models as inference models\n",
    "joblib.dump(model_knn, 'knn_model.pkl')\n",
    "joblib.dump(model_fm, 'fm_model.pkl')\n"
   ]
  },
  {
   "cell_type": "code",
   "execution_count": 10,
   "id": "a8c80244",
   "metadata": {},
   "outputs": [],
   "source": [
    "\n",
    "def get_top_n(predictions, n=5):\n",
    "    top_n = defaultdict(list)\n",
    "    for uid, iid, true_r, est, _ in predictions:\n",
    "        top_n[uid].append((iid, est))\n",
    "    \n",
    "    for uid, user_ratings in top_n.items():\n",
    "        user_ratings.sort(key=lambda x: x[1], reverse=True)\n",
    "        top_n[uid] = user_ratings[:n]\n",
    "    \n",
    "    return top_n\n",
    "\n",
    "\n",
    "# Function to generate recommendations using Factorization Machines\n",
    "def recommender_fm(user_id, model, train_set, num_items=5):\n",
    "    test_set = train_set.build_anti_testset()\n",
    "    test_set = [(user_id, item[0], item[1]) for item in test_set]\n",
    "    predictions = model.test(test_set)\n",
    "    top_n = get_top_n(predictions, n=num_items)\n",
    "    recommendations = pd.DataFrame(top_n[user_id], columns=['movieId', 'rating']).merge(movies, on='movieId')\n",
    "    return recommendations\n",
    "\n",
    "# Function to generate similar items using Nearest Neighbors\n",
    "def recommender_knn(item_title, matrix, model, num_items=5):\n",
    "    title = process.extractOne(item_title, movies['title'])[0]\n",
    "    movie_index = movies[movies['title'] == title].index[0]\n",
    "    distances, indices = model.kneighbors(matrix[movie_index], n_neighbors=num_items+1)\n",
    "    similar_items = pd.DataFrame({'Distance': distances.flatten(), 'movieId': indices.flatten()}).merge(movies, on='movieId')\n",
    "    return similar_items[1:]\n"
   ]
  },
  {
   "cell_type": "code",
   "execution_count": null,
   "id": "49a25ed6",
   "metadata": {},
   "outputs": [
    {
     "name": "stdout",
     "output_type": "stream",
     "text": [
      "Dash is running on http://127.0.0.1:8050/\n",
      "\n",
      " * Serving Flask app \"__main__\" (lazy loading)\n",
      " * Environment: production\n",
      "\u001b[31m   WARNING: This is a development server. Do not use it in a production deployment.\u001b[0m\n",
      "\u001b[2m   Use a production WSGI server instead.\u001b[0m\n",
      " * Debug mode: off\n"
     ]
    },
    {
     "name": "stderr",
     "output_type": "stream",
     "text": [
      " * Running on http://127.0.0.1:8050/ (Press CTRL+C to quit)\n",
      "127.0.0.1 - - [26/Jun/2023 22:00:31] \"GET / HTTP/1.1\" 200 -\n",
      "127.0.0.1 - - [26/Jun/2023 22:00:31] \"GET /_dash-component-suites/dash/deps/polyfill@7.v2_10_2m1687363739.12.1.min.js HTTP/1.1\" 200 -\n",
      "127.0.0.1 - - [26/Jun/2023 22:00:31] \"GET /_dash-component-suites/dash/deps/react@16.v2_10_2m1687363739.14.0.min.js HTTP/1.1\" 200 -\n",
      "127.0.0.1 - - [26/Jun/2023 22:00:31] \"GET /_dash-component-suites/dash/deps/react-dom@16.v2_10_2m1687363739.14.0.min.js HTTP/1.1\" 200 -\n",
      "127.0.0.1 - - [26/Jun/2023 22:00:31] \"GET /_dash-component-suites/dash/deps/prop-types@15.v2_10_2m1687363739.8.1.min.js HTTP/1.1\" 200 -\n",
      "127.0.0.1 - - [26/Jun/2023 22:00:31] \"GET /_dash-component-suites/dash_bootstrap_components/_components/dash_bootstrap_components.v0_13_1m1632809301.min.js HTTP/1.1\" 200 -\n",
      "127.0.0.1 - - [26/Jun/2023 22:00:31] \"GET /_dash-component-suites/dash_html_components/dash_html_components.v1_0_1m1576596177.min.js HTTP/1.1\" 200 -\n",
      "127.0.0.1 - - [26/Jun/2023 22:00:31] \"GET /_dash-component-suites/dash_core_components/plotly-1.v1_3_1m1576595950.50.1.min.js HTTP/1.1\" 200 -\n",
      "127.0.0.1 - - [26/Jun/2023 22:00:31] \"GET /_dash-component-suites/dash_core_components/dash_core_components.v1_3_1m1576595950.min.js HTTP/1.1\" 200 -\n",
      "127.0.0.1 - - [26/Jun/2023 22:00:31] \"GET /_dash-component-suites/dash_core_components/highlight.v1_3_1m1576595950.pack.js HTTP/1.1\" 200 -\n",
      "127.0.0.1 - - [26/Jun/2023 22:00:31] \"GET /_dash-component-suites/dash/dash-renderer/build/dash_renderer.v2_10_2m1687363739.min.js HTTP/1.1\" 200 -\n",
      "127.0.0.1 - - [26/Jun/2023 22:00:31] \"GET /_dash-component-suites/dash/dcc/dash_core_components.v2_10_0m1687363739.js HTTP/1.1\" 200 -\n",
      "127.0.0.1 - - [26/Jun/2023 22:00:31] \"GET /_dash-component-suites/dash/dcc/dash_core_components-shared.v2_10_0m1687363739.js HTTP/1.1\" 200 -\n",
      "127.0.0.1 - - [26/Jun/2023 22:00:31] \"GET /_dash-component-suites/dash/html/dash_html_components.v2_0_12m1687363739.min.js HTTP/1.1\" 200 -\n",
      "127.0.0.1 - - [26/Jun/2023 22:00:31] \"GET /_dash-component-suites/dash/dash_table/bundle.v5_2_5m1687363739.js HTTP/1.1\" 200 -\n",
      "127.0.0.1 - - [26/Jun/2023 22:00:37] \"GET /_dash-dependencies HTTP/1.1\" 200 -\n",
      "127.0.0.1 - - [26/Jun/2023 22:00:37] \"GET /_dash-layout HTTP/1.1\" 200 -\n",
      "127.0.0.1 - - [26/Jun/2023 22:00:38] \"GET /_favicon.ico?v=2.10.2 HTTP/1.1\" 200 -\n",
      "127.0.0.1 - - [26/Jun/2023 22:01:09] \"GET /_dash-component-suites/dash/dcc/async-dropdown.js HTTP/1.1\" 200 -\n",
      "127.0.0.1 - - [26/Jun/2023 22:01:10] \"GET /_dash-component-suites/dash/dcc/async-graph.js HTTP/1.1\" 200 -\n",
      "127.0.0.1 - - [26/Jun/2023 22:01:50] \"POST /_dash-update-component HTTP/1.1\" 200 -\n"
     ]
    }
   ],
   "source": [
    "\n",
    "# Initialize the Dash app\n",
    "app = dash.Dash(__name__, external_stylesheets=[dbc.themes.BOOTSTRAP])\n",
    "\n",
    "# Define colors\n",
    "colors = {\n",
    "    'background': '#F8F9F9',\n",
    "    'text': '#5DADE2'\n",
    "}\n",
    "\n",
    "# Define the User Page layout\n",
    "user_page_layout = html.Div(\n",
    "    style={'backgroundColor': colors['background']},\n",
    "    children=[\n",
    "        html.H1(\"User Page\", style={'color': colors['text'], 'fontSize': '24px'}),\n",
    "        dbc.Row(\n",
    "            [\n",
    "                dbc.Col(\n",
    "                    dcc.Dropdown(\n",
    "                        id='user-dropdown',\n",
    "                        options=[{'label': str(user), 'value': user} for user in ratings['userId'].unique()],\n",
    "                        value=ratings['userId'].unique()[0],\n",
    "                        style={'color': colors['text']}\n",
    "                    ),\n",
    "                    width=6\n",
    "                ),\n",
    "                dbc.Col(\n",
    "                    dcc.Input(\n",
    "                        id='num-items-input',\n",
    "                        type='number',\n",
    "                        min=1,\n",
    "                        max=10,\n",
    "                        step=1,\n",
    "                        value=5,\n",
    "                        style={'color': colors['text']}\n",
    "                    ),\n",
    "                    width=2\n",
    "                ),\n",
    "            ],\n",
    "            style={'margin-bottom': '20px'}\n",
    "        ),\n",
    "        dbc.Row(\n",
    "            [\n",
    "                dbc.Col(\n",
    "                    html.Div(id='user-history'),\n",
    "                    width=6\n",
    "                ),\n",
    "                dbc.Col(\n",
    "                    html.Div(id='user-recommendations'),\n",
    "                    width=6\n",
    "                ),\n",
    "            ]\n",
    "        ),\n",
    "    ]\n",
    ")\n",
    "\n",
    "# Define the Item Page layout\n",
    "item_page_layout = html.Div(\n",
    "    style={'backgroundColor': colors['background']},\n",
    "    children=[\n",
    "        html.H1(\"Item Page\", style={'color': colors['text'], 'fontSize': '24px'}),\n",
    "        dbc.Row(\n",
    "            dbc.Col(\n",
    "                dcc.Dropdown(\n",
    "                    id='item-dropdown',\n",
    "                    options=[{'label': str(item), 'value': item} for item in ratings['movieId'].unique()],\n",
    "                    value=ratings['movieId'].unique()[0],\n",
    "                    style={'color': colors['text']}\n",
    "                ),\n",
    "                width=6\n",
    "            ),\n",
    "            style={'margin-bottom': '20px'}\n",
    "        ),\n",
    "        dbc.Row(\n",
    "            [\n",
    "                dbc.Col(\n",
    "                    html.Div(id='item-profile'),\n",
    "                    width=6\n",
    "                ),\n",
    "                dbc.Col(\n",
    "                    html.Div(id='item-similar-items'),\n",
    "                    width=6\n",
    "                ),\n",
    "            ]\n",
    "        ),\n",
    "        dbc.Row(\n",
    "            dbc.Col(\n",
    "                dcc.Graph(id='item-rating-distribution'),\n",
    "                width=12\n",
    "            ),\n",
    "            style={'margin-top': '30px'}\n",
    "        ),\n",
    "    ]\n",
    ")\n",
    "\n",
    "\n",
    "# Define the callbacks for the User Page\n",
    "@app.callback(\n",
    "    Output('user-history', 'children'),\n",
    "    Output('user-recommendations', 'children'),\n",
    "    [Input('user-dropdown', 'value')],\n",
    "    [Input('num-items-input', 'value')]\n",
    ")\n",
    "def update_user_page(selected_user, num_items):\n",
    "    user_history = combined_dataset[combined_dataset['userId'] == selected_user]\n",
    "    recommendations = recommender_fm(selected_user, model_fm, train_fm, num_items=num_items)\n",
    "    return (\n",
    "        html.Table(\n",
    "            [html.Tr([html.Th(col, style={'color': colors['text']}) for col in user_history.columns])] +\n",
    "            [html.Tr([html.Td(data, style={'color': colors['text']}) for data in row]) for row in user_history.values],\n",
    "            style={'color': colors['text']}\n",
    "        ),\n",
    "        html.Table(\n",
    "            [html.Tr([html.Th(col, style={'color': colors['text']}) for col in recommendations.columns])] +\n",
    "            [html.Tr([html.Td(data, style={'color': colors['text']}) for data in row]) for row in recommendations.values],\n",
    "            style={'color': colors['text']}\n",
    "        )\n",
    "    )\n",
    "\n",
    "# Define the callbacks for the Item Page\n",
    "@app.callback(\n",
    "    Output('item-profile', 'children'),\n",
    "    Output('item-similar-items', 'children'),\n",
    "    Output('item-rating-distribution', 'figure'),\n",
    "    [Input('item-dropdown', 'value')]\n",
    ")\n",
    "def update_item_page(selected_item):\n",
    "    item_profile = movies[movies['movieId'] == selected_item]\n",
    "    similar_items = recommender_knn(movies['title'][selected_item], matrix_movies_users, model_knn)\n",
    "\n",
    "    # Create item rating distribution\n",
    "    item_ratings = combined_dataset[combined_dataset['movieId'] == selected_item]['rating']\n",
    "    fig = px.histogram(item_ratings, nbins=10, labels={'value': 'Rating'}, opacity=0.7)\n",
    "    fig.update_layout(\n",
    "        xaxis_title='Rating',\n",
    "        yaxis_title='Count',\n",
    "        title='Rating Distribution for Selected Item',\n",
    "        plot_bgcolor=colors['background'],\n",
    "        paper_bgcolor=colors['background'],\n",
    "        font_color=colors['text'],\n",
    "    )\n",
    "\n",
    "    return (\n",
    "        html.Table(\n",
    "            [html.Tr([html.Th(col, style={'color': colors['text']}) for col in item_profile.columns])] +\n",
    "            [html.Tr([html.Td(data, style={'color': colors['text']}) for data in row]) for row in item_profile.values],\n",
    "            style={'color': colors['text']}\n",
    "        ),\n",
    "        html.Table(\n",
    "            [html.Tr([html.Th(col, style={'color': colors['text']}) for col in similar_items.columns])] +\n",
    "            [html.Tr([html.Td(data, style={'color': colors['text']}) for data in row]) for row in similar_items.values],\n",
    "            style={'color': colors['text']}\n",
    "        ),\n",
    "        fig\n",
    "    )\n",
    "\n",
    "# Main app layout\n",
    "app.layout = html.Div(\n",
    "    style={'backgroundColor': colors['background']},\n",
    "    children=[\n",
    "        dcc.Tabs([\n",
    "            dcc.Tab(label='User Page', value='user-page', children=user_page_layout),\n",
    "            dcc.Tab(label='Item Page', value='item-page', children=item_page_layout),\n",
    "        ],\n",
    "        style={'color': colors['text'], 'fontSize': '24px'}\n",
    "        )\n",
    "    ]\n",
    ")\n",
    "\n",
    "\n",
    "app.run_server(debug=False)"
   ]
  }
 ],
 "metadata": {
  "kernelspec": {
   "display_name": "Python 3 (ipykernel)",
   "language": "python",
   "name": "python3"
  },
  "language_info": {
   "codemirror_mode": {
    "name": "ipython",
    "version": 3
   },
   "file_extension": ".py",
   "mimetype": "text/x-python",
   "name": "python",
   "nbconvert_exporter": "python",
   "pygments_lexer": "ipython3",
   "version": "3.9.13"
  }
 },
 "nbformat": 4,
 "nbformat_minor": 5
}
